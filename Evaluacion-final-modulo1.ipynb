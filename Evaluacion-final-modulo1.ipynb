{
 "cells": [
  {
   "cell_type": "code",
   "execution_count": 558,
   "metadata": {},
   "outputs": [],
   "source": [
    "# Crear una clase llamada TiendaOnline\n",
    "\n",
    "class Tiendaonline:\n",
    "    def __init__(self, *inventario,ventas_totales=0, **clientes):\n",
    "\n",
    "        self.inventario = []\n",
    "        self.ventas_totales = 0\n",
    "        self.clientes = {}\n",
    "\n",
    "    # Métodos:\n",
    "    # 4. agregar_producto(self, nombre, precio, cantidad): Este método agrega un producto al inventario o actualiza su cantidad si ya existe. Debe recibir el\n",
    "    # nombre, precio y cantidad del producto como parámetros.\n",
    " \n",
    "\n",
    "    def agregar_producto(self,nombre,precio,cantidad):\n",
    "\n",
    "      producto= {\"nombre\":nombre, \"precio\":precio, \"cantidad\": cantidad}\n",
    "\n",
    "      for producto in self.inventario:\n",
    "          if producto[\"nombre\"]== nombre:\n",
    "             producto[\"cantidad\"] += cantidad\n",
    "             print (f\"Se ha añadido {cantidad} unidades el inventario\")\n",
    "             break\n",
    "          \n",
    "\n",
    "      else:\n",
    "       nuevo_producto= {\"nombre\":nombre, \"precio\":precio, \"cantidad\": cantidad}\n",
    "       self.inventario.append(nuevo_producto)\n",
    "       print (\"El producto ha sido añadido al inventario\")  # Salgo del bucle for)\n",
    "\n",
    "\n",
    "        \n",
    "    # 5. ver_inventario(self): Muestra el inventario de productos con sus detalles.\n",
    "\n",
    "    def ver_inventario(self):\n",
    "       \n",
    "       if len(self.inventario)>0:\n",
    "          for producto in self.inventario:\n",
    "             print(f\"Nombre: {producto['nombre']},precio: {producto['precio']}, cantidad: {producto['cantidad']} \")\n",
    "       else:\n",
    "           print (\"El inventario está vacío\")\n",
    "\n",
    "          \n",
    "    # 6. buscar_producto(self, nombre): Busca un producto en el inventario por nombre y muestra sus detalles si se encuentra. \n",
    "    # Debe recibir el nombre del producto como parámetro. ######### solo muestra la camisa\n",
    "\n",
    "    def buscar_producto(self, nombre):\n",
    "       \n",
    "       \n",
    "       for producto in self.inventario:\n",
    "          \n",
    "          if nombre == producto[\"nombre\"]:\n",
    "             print (f\"Nombre: {producto['nombre']}, precio: {producto['precio']}, cantidad: {producto['cantidad']} \")\n",
    "             break\n",
    "            \n",
    "          \n",
    "       else:\n",
    "             return f\"El producto {nombre} no está en el inventario\"\n",
    "          \n",
    "   # 7. actualizar_stock(self, nombre, cantidad): Actualiza el stock de un producto en el inventario. \n",
    "   # Debe recibir el nombre del producto y la cantidad a agregar o quitar como parámetros.\n",
    "\n",
    "    def actualizar_stock(self, nombre, cantidad):\n",
    "      \n",
    "      for producto in self.inventario: \n",
    "\n",
    "         stock_actualizado= producto[\"cantidad\"] + cantidad\n",
    "\n",
    "         if nombre == producto[\"nombre\"]:\n",
    "            producto[\"cantidad\"]+= cantidad\n",
    "            print(f\"Se ha añadido {cantidad} unidades al stock de {nombre}. El stock total es {stock_actualizado}\")\n",
    "            break\n",
    "\n",
    "      else:\n",
    "         return f\"el producto {nombre} no se encuentra en el inventario\"\n",
    "\n",
    "\n",
    "   # 8. eliminar_producto(self, nombre): Elimina un producto del inventario por nombre. Debe recibir el nombre del producto como parámetro.\n",
    "\n",
    "    def eliminar_producto(self, nombre):\n",
    "       \n",
    "       for producto in self.inventario:\n",
    "          \n",
    "          if nombre == producto[\"nombre\"]:\n",
    "             self.inventario.remove(producto)\n",
    "             return f\"El producto {nombre} ha sido eliminado del inventario\"\n",
    "          \n",
    "          else:\n",
    "             return \"Este producto no se encuentra en el inventario\"\n",
    "            \n",
    "             \n",
    "   # 9. calcular_valor_inventario(self): Calcula y muestra el valor total del inventario.  \n",
    "\n",
    "    def calcular_valor_inventario(self):\n",
    "       \n",
    "       valor_total = 0\n",
    "       \n",
    "       for producto in self.inventario:\n",
    "          \n",
    "          valor = producto[\"cantidad\"]*producto[\"precio\"]\n",
    "          valor_total += valor\n",
    "\n",
    "       return valor_total\n",
    "    \n",
    "   \n",
    "   # 10. realizar_compra(self): Permite a un cliente realizar una compra seleccionando productos del inventario. \n",
    "   # Debe interactuar con el cliente para seleccionar productos y calcular el costo total de la compra. \n",
    "\n",
    "    def realizar_compra(self):\n",
    "       \n",
    "       carrito_total= []\n",
    "       coste_carrito= 0\n",
    "       \n",
    "       while True: \n",
    "          \n",
    "          \n",
    "          print(f\"Nuestro catálogo es el siguiente: {self.inventario}\")\n",
    "\n",
    "          seleccion_cliente= input(\"Diga el nombre del producto que quiere comprar o diga fin si ha terminado\").lower()\n",
    "          \n",
    "          if seleccion_cliente == \"fin\":           \n",
    "             break\n",
    "          \n",
    "          seleccion_unidades=int(input(\"¿cuantás unidades?\"))\n",
    "\n",
    "\n",
    "          if seleccion_cliente == \"fin\":      \n",
    "             print(\"Has finalizado tu compra\")     \n",
    "             break\n",
    "\n",
    "          for producto in self.inventario: \n",
    "             \n",
    "             if seleccion_cliente == producto[\"nombre\"]:\n",
    "                \n",
    "                if producto[\"cantidad\"] > 0:  \n",
    "         \n",
    "                   carrito_total.append(seleccion_cliente)\n",
    "                   producto[\"cantidad\"]-= seleccion_unidades  \n",
    "                   coste_carrito += producto[\"precio\"]* seleccion_unidades\n",
    "                   print (f\" Has añadido {seleccion_unidades} unidades de {seleccion_cliente} a tu carrito\")\n",
    "                   print(\"*\"*50)\n",
    "                   break\n",
    "\n",
    "\n",
    "                else:\n",
    "                   print(\"Lo siento, no tenemos stock\")\n",
    "                \n",
    "             \n",
    "          else: \n",
    "            print(\"Lo sentimos, pero ese producto no lo tenemos en catálogo\")\n",
    "             \n",
    "            \n",
    "    \n",
    "       print (f\"Has finalizado tu compra. \\nEl coste total de tu carrito es: {coste_carrito}\")\n",
    "            \n",
    "             \n",
    "             \n",
    "          \n",
    "   \n",
    "   \n",
    "      \n",
    "             "
   ]
  },
  {
   "cell_type": "code",
   "execution_count": 559,
   "metadata": {},
   "outputs": [
    {
     "name": "stdout",
     "output_type": "stream",
     "text": [
      "El producto ha sido añadido al inventario\n",
      "El producto ha sido añadido al inventario\n",
      "El producto ha sido añadido al inventario\n"
     ]
    }
   ],
   "source": [
    "# 4. Parto de una lista vacia, tal como indica el enunciado y agrego productos\n",
    "\n",
    "mi_inventario =[]\n",
    "\n",
    "mi_tienda = Tiendaonline()\n",
    "\n",
    "mi_tienda.agregar_producto(\"camisa\", 15, 2) \n",
    "mi_tienda.agregar_producto(\"pantalones\", 20, 5)\n",
    "mi_tienda.agregar_producto(\"zapatos\",30, 3)"
   ]
  },
  {
   "cell_type": "code",
   "execution_count": 560,
   "metadata": {},
   "outputs": [
    {
     "name": "stdout",
     "output_type": "stream",
     "text": [
      "Nombre: camisa,precio: 15, cantidad: 2 \n",
      "Nombre: pantalones,precio: 20, cantidad: 5 \n",
      "Nombre: zapatos,precio: 30, cantidad: 3 \n"
     ]
    }
   ],
   "source": [
    "# 5.2 Ver inventario\n",
    "\n",
    "mi_tienda.ver_inventario()"
   ]
  },
  {
   "cell_type": "code",
   "execution_count": 561,
   "metadata": {},
   "outputs": [
    {
     "name": "stdout",
     "output_type": "stream",
     "text": [
      "Nombre: zapatos, precio: 30, cantidad: 3 \n"
     ]
    }
   ],
   "source": [
    "# 6. Buscar productos\n",
    "#### hay que tener en cuenta que el inventario ahora mismo parte de estar vacio, y el metodo no esta teniendo en cuenta que en el metodo anterior ya añadi productos\n",
    "\n",
    "mi_tienda.buscar_producto(\"zapatos\")\n"
   ]
  },
  {
   "cell_type": "code",
   "execution_count": 562,
   "metadata": {},
   "outputs": [
    {
     "name": "stdout",
     "output_type": "stream",
     "text": [
      "Se ha añadido 3 unidades al stock de camisa. El stock total es 5\n",
      "Se ha añadido 2 unidades al stock de zapatos. El stock total es 5\n"
     ]
    }
   ],
   "source": [
    "# 7. Actualizar stock\n",
    "\n",
    "mi_tienda.actualizar_stock(\"camisa\", 3 )\n",
    "mi_tienda.actualizar_stock(\"zapatos\", 2)\n"
   ]
  },
  {
   "cell_type": "code",
   "execution_count": 239,
   "metadata": {},
   "outputs": [
    {
     "data": {
      "text/plain": [
       "'Este producto no se encuentra en el inventario'"
      ]
     },
     "execution_count": 239,
     "metadata": {},
     "output_type": "execute_result"
    }
   ],
   "source": [
    "# 8. Eliminar productos\n",
    "\n",
    "mi_tienda.eliminar_producto()"
   ]
  },
  {
   "cell_type": "code",
   "execution_count": 563,
   "metadata": {},
   "outputs": [
    {
     "name": "stdout",
     "output_type": "stream",
     "text": [
      "Nombre: camisa,precio: 15, cantidad: 5 \n",
      "Nombre: pantalones,precio: 20, cantidad: 5 \n",
      "Nombre: zapatos,precio: 30, cantidad: 5 \n"
     ]
    }
   ],
   "source": [
    "# COMPRUEBO:Una vez eliminado el producto con el metodo eliminar_producto() si trato de ejecutar el metodo ver_inventario () o buscar_producto() no me da ningun resultado.\n",
    "# Para que me vuelva a salir he tenido que ejecutar de nuevo el metodo de agregar_producto()\n",
    "\n",
    "mi_tienda.ver_inventario()"
   ]
  },
  {
   "cell_type": "code",
   "execution_count": 564,
   "metadata": {},
   "outputs": [
    {
     "data": {
      "text/plain": [
       "325"
      ]
     },
     "execution_count": 564,
     "metadata": {},
     "output_type": "execute_result"
    }
   ],
   "source": [
    "# 9. Calcular valor del inventario\n",
    "\n",
    "mi_tienda.calcular_valor_inventario()"
   ]
  },
  {
   "cell_type": "code",
   "execution_count": 565,
   "metadata": {},
   "outputs": [
    {
     "name": "stdout",
     "output_type": "stream",
     "text": [
      "Nuestro catálogo es el siguiente: [{'nombre': 'camisa', 'precio': 15, 'cantidad': 5}, {'nombre': 'pantalones', 'precio': 20, 'cantidad': 5}, {'nombre': 'zapatos', 'precio': 30, 'cantidad': 5}]\n",
      " Has añadido 2 unidades de camisa a tu carrito\n",
      "**************************************************\n",
      "Nuestro catálogo es el siguiente: [{'nombre': 'camisa', 'precio': 15, 'cantidad': 3}, {'nombre': 'pantalones', 'precio': 20, 'cantidad': 5}, {'nombre': 'zapatos', 'precio': 30, 'cantidad': 5}]\n",
      " Has añadido 1 unidades de pantalones a tu carrito\n",
      "**************************************************\n",
      "Nuestro catálogo es el siguiente: [{'nombre': 'camisa', 'precio': 15, 'cantidad': 3}, {'nombre': 'pantalones', 'precio': 20, 'cantidad': 4}, {'nombre': 'zapatos', 'precio': 30, 'cantidad': 5}]\n",
      " Has añadido 1 unidades de zapatos a tu carrito\n",
      "**************************************************\n",
      "Nuestro catálogo es el siguiente: [{'nombre': 'camisa', 'precio': 15, 'cantidad': 3}, {'nombre': 'pantalones', 'precio': 20, 'cantidad': 4}, {'nombre': 'zapatos', 'precio': 30, 'cantidad': 4}]\n",
      "Has finalizado tu compra. \n",
      "El coste total de tu carrito es: 80\n"
     ]
    }
   ],
   "source": [
    "# 10. Realizar compra\n",
    "\n",
    "\n",
    "mi_tienda.realizar_compra() \n",
    "\n"
   ]
  },
  {
   "cell_type": "code",
   "execution_count": null,
   "metadata": {},
   "outputs": [],
   "source": []
  }
 ],
 "metadata": {
  "kernelspec": {
   "display_name": "base",
   "language": "python",
   "name": "python3"
  },
  "language_info": {
   "codemirror_mode": {
    "name": "ipython",
    "version": 3
   },
   "file_extension": ".py",
   "mimetype": "text/x-python",
   "name": "python",
   "nbconvert_exporter": "python",
   "pygments_lexer": "ipython3",
   "version": "3.9.7"
  }
 },
 "nbformat": 4,
 "nbformat_minor": 2
}
